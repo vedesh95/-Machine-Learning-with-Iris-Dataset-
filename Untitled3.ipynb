{
  "nbformat": 4,
  "nbformat_minor": 0,
  "metadata": {
    "colab": {
      "name": "Untitled3.ipynb",
      "provenance": [],
      "collapsed_sections": [],
      "authorship_tag": "ABX9TyMtzZ0mmbNoKq3hwP/D6P1p",
      "include_colab_link": true
    },
    "kernelspec": {
      "name": "python3",
      "display_name": "Python 3"
    }
  },
  "cells": [
    {
      "cell_type": "markdown",
      "metadata": {
        "id": "view-in-github",
        "colab_type": "text"
      },
      "source": [
        "<a href=\"https://colab.research.google.com/github/vedesh95/-Machine-Learning-with-Iris-Dataset-/blob/master/Untitled3.ipynb\" target=\"_parent\"><img src=\"https://colab.research.google.com/assets/colab-badge.svg\" alt=\"Open In Colab\"/></a>"
      ]
    },
    {
      "cell_type": "markdown",
      "metadata": {
        "id": "otHCo-FDZ6PN",
        "colab_type": "text"
      },
      "source": [
        "##PANDAS"
      ]
    },
    {
      "cell_type": "code",
      "metadata": {
        "id": "ZPCM6zAXWnwo",
        "colab_type": "code",
        "colab": {}
      },
      "source": [
        "# import pandas library\n",
        "import pandas as pd"
      ],
      "execution_count": 0,
      "outputs": []
    },
    {
      "cell_type": "code",
      "metadata": {
        "id": "TAT0g50KWyq8",
        "colab_type": "code",
        "colab": {}
      },
      "source": [
        "# Import pandas library\n",
        "import pandas as pd\n",
        "\n",
        "# Read the online file by the URL provides above, and assign it to variable \"df\"\n",
        "other_path = \"https://s3-api.us-geo.objectstorage.softlayer.net/cf-courses-data/CognitiveClass/DA0101EN/auto.csv\"\n",
        "df = pd.read_csv(other_path, header=None)"
      ],
      "execution_count": 0,
      "outputs": []
    },
    {
      "cell_type": "code",
      "metadata": {
        "id": "bmQHsgOeZ1cc",
        "colab_type": "code",
        "colab": {}
      },
      "source": [
        "df.head(10)"
      ],
      "execution_count": 0,
      "outputs": []
    },
    {
      "cell_type": "code",
      "metadata": {
        "id": "rtMAhoxQZy5T",
        "colab_type": "code",
        "colab": {}
      },
      "source": [
        "df.tail(10)"
      ],
      "execution_count": 0,
      "outputs": []
    },
    {
      "cell_type": "code",
      "metadata": {
        "id": "OdWQXFKUXKQL",
        "colab_type": "code",
        "colab": {}
      },
      "source": [
        "headers = [\"symboling\",\"normalized-losses\",\"make\",\"fuel-type\",\"aspiration\", \"num-of-doors\",\"body-style\",\n",
        "         \"drive-wheels\",\"engine-location\",\"wheel-base\", \"length\",\"width\",\"height\",\"curb-weight\",\"engine-type\",\n",
        "         \"num-of-cylinders\", \"engine-size\",\"fuel-system\",\"bore\",\"stroke\",\"compression-ratio\",\"horsepower\",\n",
        "         \"peak-rpm\",\"city-mpg\",\"highway-mpg\",\"price\"]\n",
        "df.columns = headers"
      ],
      "execution_count": 0,
      "outputs": []
    },
    {
      "cell_type": "code",
      "metadata": {
        "id": "KweomZVOW7i9",
        "colab_type": "code",
        "colab": {}
      },
      "source": [
        "#drop missing values along the column \"price\" as follows\n",
        "df.dropna(subset=[\"price\"], axis=0)"
      ],
      "execution_count": 0,
      "outputs": []
    },
    {
      "cell_type": "code",
      "metadata": {
        "id": "l35Kv_TQX0RH",
        "colab_type": "code",
        "colab": {}
      },
      "source": [
        "#To get datatypes\n",
        "df.dtypes"
      ],
      "execution_count": 0,
      "outputs": []
    },
    {
      "cell_type": "code",
      "metadata": {
        "id": "37KtGvKtYafo",
        "colab_type": "code",
        "colab": {}
      },
      "source": [
        "#statistical summary of all numeric-typed (int, float) columns.\n",
        "df.describe()"
      ],
      "execution_count": 0,
      "outputs": []
    },
    {
      "cell_type": "code",
      "metadata": {
        "id": "2qnd7s8QYvji",
        "colab_type": "code",
        "colab": {}
      },
      "source": [
        "#For statistical summary along with dtype object use:\n",
        "df.describe(include = \"all\")"
      ],
      "execution_count": 0,
      "outputs": []
    },
    {
      "cell_type": "code",
      "metadata": {
        "id": "GtGSzptMZHat",
        "colab_type": "code",
        "colab": {}
      },
      "source": [
        "#To descibe only required columns\n",
        "df[['length','width','height'] ].describe()"
      ],
      "execution_count": 0,
      "outputs": []
    },
    {
      "cell_type": "markdown",
      "metadata": {
        "id": "pASAL2lLaYyt",
        "colab_type": "text"
      },
      "source": [
        "To get concise summary of DataFrame"
      ]
    },
    {
      "cell_type": "code",
      "metadata": {
        "id": "-pTGJiXqaX9p",
        "colab_type": "code",
        "colab": {}
      },
      "source": [
        "df.info()"
      ],
      "execution_count": 0,
      "outputs": []
    },
    {
      "cell_type": "markdown",
      "metadata": {
        "id": "_1DI4zE9cJeG",
        "colab_type": "text"
      },
      "source": [
        "##DATA WRANGLING"
      ]
    },
    {
      "cell_type": "markdown",
      "metadata": {
        "id": "MUi77NJhcTVj",
        "colab_type": "text"
      },
      "source": [
        "<h2>Table of content</h2>\n",
        "\n",
        "<div class=\"alert alert-block alert-info\" style=\"margin-top: 20px\">\n",
        "<ul>\n",
        "    <li><a href=\"#identify_handle_missing_values\">Identify and handle missing values</a>\n",
        "        <ul>\n",
        "            <li><a href=\"#identify_missing_values\">Identify missing values</a></li>\n",
        "            <li><a href=\"#deal_missing_values\">Deal with missing values</a></li>\n",
        "            <li><a href=\"#correct_data_format\">Correct data format</a></li>\n",
        "        </ul>\n",
        "    </li>\n",
        "    <li><a href=\"#data_standardization\">Data standardization</a></li>\n",
        "    <li><a href=\"#data_normalization\">Data Normalization (centering/scaling)</a></li>\n",
        "    <li><a href=\"#binning\">Binning</a></li>\n",
        "    <li><a href=\"#indicator\">Indicator variable</a></li>\n",
        "</ul>\n",
        "</div>\n",
        " \n",
        "<hr>"
      ]
    },
    {
      "cell_type": "markdown",
      "metadata": {
        "id": "rfvwR3hmcxd-",
        "colab_type": "text"
      },
      "source": [
        ".replace(A, B, inplace = True)  to replace a with b"
      ]
    },
    {
      "cell_type": "code",
      "metadata": {
        "id": "FI-aeNhYdJF4",
        "colab_type": "code",
        "colab": {}
      },
      "source": [
        "import numpy as np"
      ],
      "execution_count": 0,
      "outputs": []
    },
    {
      "cell_type": "code",
      "metadata": {
        "id": "J_WKeHkQaOWr",
        "colab_type": "code",
        "colab": {}
      },
      "source": [
        "df.replace(\"?\", np.nan, inplace = True)\n",
        "df.head(5)"
      ],
      "execution_count": 0,
      "outputs": []
    },
    {
      "cell_type": "markdown",
      "metadata": {
        "id": "lzvAylXfdlI5",
        "colab_type": "text"
      },
      "source": [
        "<h4>Evaluating for Missing Data</h4>\n",
        "\n",
        "The missing values are converted to Python's default. We use Python's built-in functions to identify these missing values. There are two methods to detect missing data:\n",
        "<ol>\n",
        "    <li><b>.isnull()</b></li>\n",
        "    <li><b>.notnull()</b></li>\n",
        "</ol>\n",
        "The output is a boolean value indicating whether the value that is passed into the argument is in fact missing data."
      ]
    },
    {
      "cell_type": "code",
      "metadata": {
        "id": "oOXJ8XSudkX4",
        "colab_type": "code",
        "colab": {}
      },
      "source": [
        "missing_data = df.isnull()\n",
        "missing_data.head(5)\n",
        "#\"True\" stands for missing value, while \"False\" stands for not missing value."
      ],
      "execution_count": 0,
      "outputs": []
    },
    {
      "cell_type": "markdown",
      "metadata": {
        "id": "ep5UHn-jgnVN",
        "colab_type": "text"
      },
      "source": [
        "To calculate mean and replace np.nan with mean"
      ]
    },
    {
      "cell_type": "code",
      "metadata": {
        "id": "WlptJKMEgbg-",
        "colab_type": "code",
        "colab": {}
      },
      "source": [
        "avg_bore=df['bore'].astype('float').mean(axis=0)\n",
        "df['bore'].replace(np.nan,avg_bore,inplace='True')"
      ],
      "execution_count": 0,
      "outputs": []
    },
    {
      "cell_type": "markdown",
      "metadata": {
        "id": "-2BR9nc-hLUR",
        "colab_type": "text"
      },
      "source": [
        "To see which values are present in a particular column, we can use the \".value_counts()\" method:"
      ]
    },
    {
      "cell_type": "code",
      "metadata": {
        "id": "ocspURR0hKup",
        "colab_type": "code",
        "colab": {}
      },
      "source": [
        "df['bore'].value_counts\n",
        "df['bore'].value_counts.id_max"
      ],
      "execution_count": 0,
      "outputs": []
    },
    {
      "cell_type": "code",
      "metadata": {
        "id": "dIZhs15nhTx0",
        "colab_type": "code",
        "colab": {}
      },
      "source": [
        "df[\"num-of-doors\"].replace(np.nan, \"four\", inplace=True)"
      ],
      "execution_count": 0,
      "outputs": []
    },
    {
      "cell_type": "code",
      "metadata": {
        "id": "L1d6ObL4h3FW",
        "colab_type": "code",
        "colab": {}
      },
      "source": [
        "# simply drop whole row with NaN in \"price\" column\n",
        "df.dropna(subset=[\"price\"], axis=0, inplace=True)\n",
        "\n",
        "# reset index, because we droped two rows\n",
        "df.reset_index(drop=True, inplace=True)"
      ],
      "execution_count": 0,
      "outputs": []
    },
    {
      "cell_type": "code",
      "metadata": {
        "id": "p93cRHkuiYxF",
        "colab_type": "code",
        "colab": {}
      },
      "source": [
        "#to replace dtype whole column by another dtype\n",
        "df['bore','num-pf-doors']=df['bore','num-pf-doors'].astype('float')"
      ],
      "execution_count": 0,
      "outputs": []
    },
    {
      "cell_type": "markdown",
      "metadata": {
        "id": "3DP4UyJSjQHB",
        "colab_type": "text"
      },
      "source": [
        "DATA STANDARDIZATION"
      ]
    },
    {
      "cell_type": "code",
      "metadata": {
        "id": "-dHA3hCciX07",
        "colab_type": "code",
        "colab": {}
      },
      "source": [
        "# Convert mpg to L/100km by mathematical operation (235 divided by mpg)\n",
        "df['city-L/100km'] = 235/df[\"city-mpg\"]\n",
        "# it also rename column \n",
        "# check your transformed data \n",
        "df.head()"
      ],
      "execution_count": 0,
      "outputs": []
    }
  ]
}